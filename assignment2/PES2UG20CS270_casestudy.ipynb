{
 "cells": [
  {
   "cell_type": "code",
   "execution_count": 1,
   "id": "6d77f619",
   "metadata": {},
   "outputs": [],
   "source": [
    "import numpy as np \n",
    "import pandas as pd \n",
    "from datetime import datetime"
   ]
  },
  {
   "cell_type": "code",
   "execution_count": null,
   "id": "2479aea5",
   "metadata": {
    "scrolled": false
   },
   "outputs": [],
   "source": [
    "df = pd.read_excel(\"MI_Online Retail Dataset (1).xlsx\")\n",
    "data.head()\n",
    "print(\"Dataset Length: \", len(df))\n",
    "print(\"Dataset Shape: \", df.shape)\n",
    "df.head()"
   ]
  },
  {
   "cell_type": "code",
   "execution_count": null,
   "id": "2f72470a",
   "metadata": {},
   "outputs": [],
   "source": [
    "#cleaning and sorting the dataset according to customer id\n",
    "df=pd.read_csv('Online_Retail.csv')\n",
    "df=df.sort_values(\"CustomerID\")\n",
    "df=df.replace(r'^s*$', float('NaN'), regex = True)\n",
    "df=df.dropna()\n",
    "print(df.head())\n",
    "print(df.shape)\n",
    "df[\"InvoiceDate\"]=pd.to_datetime(df[\"InvoiceDate\"])"
   ]
  },
  {
   "cell_type": "code",
   "execution_count": null,
   "id": "3985930d",
   "metadata": {},
   "outputs": [],
   "source": [
    "#target variable creation\n",
    "date1=pd.Timestamp(2010,12,2)\n",
    "date2=pd.Timestamp(2011,8,31)\n",
    "date3=pd.Timestamp(2011,9,1)\n",
    "date4=pd.Timestamp(2011,12,31)\n",
    "set1=df[df[\"InvoiceDate\"]>=date1]\n",
    "set1=set1[set1[\"InvoiceDate\"]<=date2]\n",
    "set2=df[df[\"InvoiceDate\"]>=date3]\n",
    "set2=set1[set1[\"InvoiceDate\"]<=date4]"
   ]
  },
  {
   "cell_type": "code",
   "execution_count": null,
   "id": "b9e91c0a",
   "metadata": {},
   "outputs": [],
   "source": [
    "set1.head()"
   ]
  },
  {
   "cell_type": "code",
   "execution_count": null,
   "id": "4687af7f",
   "metadata": {},
   "outputs": [],
   "source": [
    "set2.head()"
   ]
  },
  {
   "cell_type": "code",
   "execution_count": null,
   "id": "f3f4a7d3",
   "metadata": {},
   "outputs": [],
   "source": [
    "set1ID=set1[\"CustomerID\"].unique()\n",
    "set2ID=set2[\"CustomerID\"].unique()\n",
    "churn_list=[]\n",
    "#list of customers who churn\n",
    "for i in set1ID:\n",
    "    if i  in set2ID:\n",
    "        churn_list.append(i)\n",
    "\n",
    "df=df.assign(IsChurn=[0 if x in churn_list else 1 for x in df[\"CustomerID\"]])\n",
    "df.head()"
   ]
  },
  {
   "cell_type": "code",
   "execution_count": null,
   "id": "04342e57",
   "metadata": {},
   "outputs": [],
   "source": [
    "#dropping attributes that have no contribution\n",
    "df=df.drop(['Description','InvoiceNo','InvoiceDate'],axis=1)\n",
    "df['StockCode'] = df['StockCode'].astype('str').str.extractall('(\\d+)').unstack().fillna('').sum(axis=1).astype(int)\n",
    "df.head()"
   ]
  },
  {
   "cell_type": "code",
   "execution_count": null,
   "id": "235adda9",
   "metadata": {},
   "outputs": [],
   "source": [
    "df['IsChurn'].value_counts()"
   ]
  },
  {
   "cell_type": "code",
   "execution_count": null,
   "id": "471c7a5c",
   "metadata": {},
   "outputs": [],
   "source": [
    "pure_df = df.dropna(axis=1)\n",
    "ohc_pure_df = pd.get_dummies(pure_df)"
   ]
  },
  {
   "cell_type": "code",
   "execution_count": null,
   "id": "8c2f2dcd",
   "metadata": {},
   "outputs": [],
   "source": [
    "ohc_pure_df.head()"
   ]
  },
  {
   "cell_type": "code",
   "execution_count": null,
   "id": "2d6db59f",
   "metadata": {},
   "outputs": [],
   "source": [
    "x = ohc_pure_df.drop('IsChurn', axis=1)\n",
    "y = ohc_pure_df['IsChurn']"
   ]
  },
  {
   "cell_type": "code",
   "execution_count": null,
   "id": "8ed96572",
   "metadata": {},
   "outputs": [],
   "source": [
    "from sklearn.model_selection import train_test_split"
   ]
  },
  {
   "cell_type": "code",
   "execution_count": null,
   "id": "9dc2b1c7",
   "metadata": {},
   "outputs": [],
   "source": [
    "x_train, x_test, y_train, y_test = train_test_split(x,y,random_state=104,test_size=0.25,shuffle=True)"
   ]
  },
  {
   "cell_type": "code",
   "execution_count": null,
   "id": "5c982127",
   "metadata": {},
   "outputs": [],
   "source": [
    "import tensorflow as tf\n",
    "from tensorflow import keras"
   ]
  },
  {
   "cell_type": "code",
   "execution_count": null,
   "id": "bd1f1be5",
   "metadata": {},
   "outputs": [],
   "source": [
    "model = tf.keras.Sequential()\n",
    "model.add(tf.keras.layers.Dense(10, activation='relu'))\n",
    "model.add(tf.keras.layers.Dense(1, activation='sigmoid'))"
   ]
  },
  {
   "cell_type": "code",
   "execution_count": null,
   "id": "41f1261b",
   "metadata": {},
   "outputs": [],
   "source": [
    "model.compile(loss='binary_crossentropy', optimizer='adam', metrics=['accuracy'])"
   ]
  },
  {
   "cell_type": "code",
   "execution_count": null,
   "id": "d69c65eb",
   "metadata": {},
   "outputs": [],
   "source": [
    "history = model.fit(x_train, y_train, batch_size=32, epochs=8, validation_data=(x_test, y_test))"
   ]
  },
  {
   "cell_type": "code",
   "execution_count": null,
   "id": "66bd81b4",
   "metadata": {},
   "outputs": [],
   "source": [
    "res = model.evaluate(x_test, y_test, batch_size=128)"
   ]
  },
  {
   "cell_type": "code",
   "execution_count": null,
   "id": "b6a5f216",
   "metadata": {},
   "outputs": [],
   "source": [
    "print(\"accuracy:\", res[1])"
   ]
  },
  {
   "cell_type": "code",
   "execution_count": null,
   "id": "77582771",
   "metadata": {},
   "outputs": [],
   "source": [
    "from sklearn.svm import SVC\n",
    "svc = SVC(gamma='auto')"
   ]
  },
  {
   "cell_type": "code",
   "execution_count": null,
   "id": "5a050214",
   "metadata": {},
   "outputs": [],
   "source": [
    "svc.fit(x_train, y_train)"
   ]
  },
  {
   "cell_type": "code",
   "execution_count": null,
   "id": "09e2e761",
   "metadata": {},
   "outputs": [],
   "source": [
    "ypred = svc.predict(x_test)"
   ]
  },
  {
   "cell_type": "code",
   "execution_count": null,
   "id": "80738c27",
   "metadata": {},
   "outputs": [],
   "source": [
    "from sklearn.metrics import classification_report, confusion_matrix\n",
    "print(confusion_matrix(y_test,y_pred))\n",
    "print(classification_report(y_test,y_pred))"
   ]
  },
  {
   "cell_type": "code",
   "execution_count": null,
   "id": "5b7492a6",
   "metadata": {},
   "outputs": [],
   "source": [
    "y_pred = svc.predict(x_test)  \n",
    "score = accuracy_score( y_test, y_pred)  "
   ]
  }
 ],
 "metadata": {
  "kernelspec": {
   "display_name": "Python 3 (ipykernel)",
   "language": "python",
   "name": "python3"
  },
  "language_info": {
   "codemirror_mode": {
    "name": "ipython",
    "version": 3
   },
   "file_extension": ".py",
   "mimetype": "text/x-python",
   "name": "python",
   "nbconvert_exporter": "python",
   "pygments_lexer": "ipython3",
   "version": "3.9.2"
  }
 },
 "nbformat": 4,
 "nbformat_minor": 5
}

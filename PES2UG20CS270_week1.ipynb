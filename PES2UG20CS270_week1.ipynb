{
 "cells": [
  {
   "cell_type": "code",
   "execution_count": 1,
   "id": "750da227",
   "metadata": {},
   "outputs": [],
   "source": [
    "import numpy as np #importing numpy"
   ]
  },
  {
   "cell_type": "code",
   "execution_count": 2,
   "id": "1b34c5fa",
   "metadata": {},
   "outputs": [],
   "source": [
    "def create_numpy_ones_array(shape): #array of ones\n",
    "    return np.ones(shape, dtype=None) "
   ]
  },
  {
   "cell_type": "code",
   "execution_count": 3,
   "id": "42af3f80",
   "metadata": {},
   "outputs": [
    {
     "name": "stdout",
     "output_type": "stream",
     "text": [
      "[[1. 1. 1.]\n",
      " [1. 1. 1.]\n",
      " [1. 1. 1.]\n",
      " [1. 1. 1.]\n",
      " [1. 1. 1.]]\n"
     ]
    }
   ],
   "source": [
    "shape=(5,3)\n",
    "print(create_numpy_ones_array(shape))"
   ]
  },
  {
   "cell_type": "code",
   "execution_count": 4,
   "id": "687fd37f",
   "metadata": {},
   "outputs": [],
   "source": [
    "def create_numpy_zeros_array(shape): #array of zeros\n",
    "    return np.zeros((shape), dtype=None) "
   ]
  },
  {
   "cell_type": "code",
   "execution_count": 5,
   "id": "ebe5ddbd",
   "metadata": {},
   "outputs": [
    {
     "name": "stdout",
     "output_type": "stream",
     "text": [
      "[0. 0. 0.]\n"
     ]
    }
   ],
   "source": [
    "shape=3\n",
    "print(create_numpy_zeros_array(shape))"
   ]
  },
  {
   "cell_type": "code",
   "execution_count": 6,
   "id": "5b49ae02",
   "metadata": {},
   "outputs": [],
   "source": [
    "def create_identity_numpy_array(order): #identity matrix\n",
    "    return np.eye((order)) "
   ]
  },
  {
   "cell_type": "code",
   "execution_count": 7,
   "id": "12cc10b2",
   "metadata": {},
   "outputs": [
    {
     "name": "stdout",
     "output_type": "stream",
     "text": [
      "[[1. 0. 0. 0.]\n",
      " [0. 1. 0. 0.]\n",
      " [0. 0. 1. 0.]\n",
      " [0. 0. 0. 1.]]\n"
     ]
    }
   ],
   "source": [
    "order=4 \n",
    "print(create_identity_numpy_array(order))"
   ]
  },
  {
   "cell_type": "code",
   "execution_count": 8,
   "id": "4ee3fb3a",
   "metadata": {},
   "outputs": [],
   "source": [
    "#find cofactor of a matrix\n",
    "def matrix_cofactor(array):\n",
    "    det=np.linalg.det(array) \n",
    "    return np.linalg.inv(array).T*det"
   ]
  },
  {
   "cell_type": "code",
   "execution_count": 9,
   "id": "8cc1ffcf",
   "metadata": {},
   "outputs": [
    {
     "name": "stdout",
     "output_type": "stream",
     "text": [
      "[[ 6. -5.]\n",
      " [-2.  1.]]\n"
     ]
    }
   ],
   "source": [
    "arr=np.array([[1,2],[5,6]])\n",
    "print(matrix_cofactor(arr))"
   ]
  },
  {
   "cell_type": "code",
   "execution_count": 10,
   "id": "bc519b2c",
   "metadata": {},
   "outputs": [],
   "source": [
    "def f1(X1,coef1,X2,coef2,seed1,seed2,seed3,shape1,shape2):\n",
    "    np.random.seed(seed1)\n",
    "    W1=np.random.random(shape1)\n",
    "    \n",
    "    np.random.seed(seed2)\n",
    "    W2=np.random.random(shape2)\n",
    "    \n",
    "    try:\n",
    "        c1=np.cross(W1,np.multiply(X1,coef1))\n",
    "        c2=np.cross(W2,np.multiply(X2,coef2))\n",
    "        \n",
    "        if c1.shape == c2.shape:\n",
    "            return c1+c2\n",
    "        else:\n",
    "            return -1\n",
    "        \n",
    "    except ValueError:\n",
    "        return -1"
   ]
  },
  {
   "cell_type": "code",
   "execution_count": 11,
   "id": "1cac44e0",
   "metadata": {},
   "outputs": [
    {
     "name": "stdout",
     "output_type": "stream",
     "text": [
      "[-1.20993826 -4.05885846]\n"
     ]
    }
   ],
   "source": [
    "#without dimension error\n",
    "X1=np.array(([1,2],[3,4]))\n",
    "coef1=1\n",
    "X2=np.array(([4,5],[8,9]))\n",
    "coef2=2\n",
    "seed1=0\n",
    "seed2=1\n",
    "seed3=6\n",
    "shape1=(2,2)\n",
    "shape2=(2,2)   \n",
    "print(f1(X1,coef1,X2,coef2,seed1,seed2,seed3,shape1,shape2))"
   ]
  },
  {
   "cell_type": "code",
   "execution_count": 12,
   "id": "9a100063",
   "metadata": {},
   "outputs": [
    {
     "name": "stdout",
     "output_type": "stream",
     "text": [
      "-1\n"
     ]
    }
   ],
   "source": [
    "#with dimension error\n",
    "X1=np.array(([7,0],[0,9]))\n",
    "coef1=1\n",
    "X2=np.array(([4,8],[3,0]))\n",
    "coef2=3\n",
    "seed1=0\n",
    "seed2=5\n",
    "seed3=8\n",
    "shape1=(3,2)\n",
    "shape2=(2,3)   \n",
    "print(f1(X1,coef1,X2,coef2,seed1,seed2,seed3,shape1,shape2))"
   ]
  },
  {
   "cell_type": "code",
   "execution_count": 13,
   "id": "5be098b1",
   "metadata": {},
   "outputs": [],
   "source": [
    "import pandas as pd #importing pandas"
   ]
  },
  {
   "cell_type": "code",
   "execution_count": 14,
   "id": "8672045a",
   "metadata": {},
   "outputs": [
    {
     "name": "stdout",
     "output_type": "stream",
     "text": [
      "    SL.No  Attribute A  Attribute B Attribute C\n",
      "0       1         12.0           44           A\n",
      "1       2          NaN           22           B\n",
      "2       3         31.0           13           A\n",
      "3       4         19.0           13           C\n",
      "4       5         22.0           24           A\n",
      "5       6          NaN           45           C\n",
      "6       7         41.0           21           C\n",
      "7       8         22.0           78           B\n",
      "8       9         90.0           21         NaN\n",
      "9      10         81.0           45           B\n",
      "10     11          NaN           22           A\n",
      "11     12         56.0           35           C\n",
      "12     13         33.0           67           A\n",
      "13     14         21.0           12           C\n",
      "14     15         78.0           14           C\n"
     ]
    }
   ],
   "source": [
    "#creating dataframe\n",
    "\n",
    "df = pd.read_csv(\"example.csv\") \n",
    "print(df)"
   ]
  },
  {
   "cell_type": "code",
   "execution_count": 15,
   "id": "42b0fc1f",
   "metadata": {},
   "outputs": [],
   "source": [
    "#Fill the Nan in a column with the mode of that column\n",
    "\n",
    "def fill_with_mode(filename, column): \n",
    "    df[column]=df[column].fillna(df[column].mode().iloc[0])\n",
    "    print(df)"
   ]
  },
  {
   "cell_type": "code",
   "execution_count": 16,
   "id": "b1e7a7dc",
   "metadata": {},
   "outputs": [
    {
     "name": "stdout",
     "output_type": "stream",
     "text": [
      "    SL.No  Attribute A  Attribute B Attribute C\n",
      "0       1         12.0           44           A\n",
      "1       2         22.0           22           B\n",
      "2       3         31.0           13           A\n",
      "3       4         19.0           13           C\n",
      "4       5         22.0           24           A\n",
      "5       6         22.0           45           C\n",
      "6       7         41.0           21           C\n",
      "7       8         22.0           78           B\n",
      "8       9         90.0           21         NaN\n",
      "9      10         81.0           45           B\n",
      "10     11         22.0           22           A\n",
      "11     12         56.0           35           C\n",
      "12     13         33.0           67           A\n",
      "13     14         21.0           12           C\n",
      "14     15         78.0           14           C\n"
     ]
    }
   ],
   "source": [
    "filename=df\n",
    "column=\"Attribute A\"\n",
    "fill_with_mode(filename, column)"
   ]
  },
  {
   "cell_type": "code",
   "execution_count": 17,
   "id": "10d05154",
   "metadata": {},
   "outputs": [],
   "source": [
    "#Fill the Nan in column with the mean value of the group the row belongs to\n",
    "\n",
    "def fill_with_group_average(df, group, column):\n",
    "    df[column]=df[column].fillna(group.transform(lambda x: x.fillna(x.mean())))\n",
    "    print(df)"
   ]
  },
  {
   "cell_type": "code",
   "execution_count": 18,
   "id": "34992772",
   "metadata": {},
   "outputs": [
    {
     "name": "stdout",
     "output_type": "stream",
     "text": [
      "Attribute C\n",
      "A    24.5\n",
      "B    51.5\n",
      "C    43.0\n",
      "Name: Attribute A, dtype: float64\n",
      "\n",
      "The filled in dataframe:\n",
      "    SL.No  Attribute A  Attribute B Attribute C\n",
      "0       1         12.0           44           A\n",
      "1       2         51.5           22           B\n",
      "2       3         31.0           13           A\n",
      "3       4         19.0           13           C\n",
      "4       5         22.0           24           A\n",
      "5       6         43.0           45           C\n",
      "6       7         41.0           21           C\n",
      "7       8         22.0           78           B\n",
      "8       9         90.0           21         NaN\n",
      "9      10         81.0           45           B\n",
      "10     11         24.5           22           A\n",
      "11     12         56.0           35           C\n",
      "12     13         33.0           67           A\n",
      "13     14         21.0           12           C\n",
      "14     15         78.0           14           C\n"
     ]
    }
   ],
   "source": [
    "df = pd.read_csv(\"example.csv\")\n",
    "filename=df\n",
    "column=\"Attribute A\"\n",
    "group = df[\"Attribute A\"].groupby(df[\"Attribute C\"])\n",
    "print(group.mean())\n",
    "\n",
    "print(\"\\nThe filled in dataframe:\")\n",
    "fill_with_group_average(df, group, column)"
   ]
  },
  {
   "cell_type": "code",
   "execution_count": 19,
   "id": "a78c8b48",
   "metadata": {},
   "outputs": [],
   "source": [
    "#Return all the rows(with all columns) where the value in a certain 'column' is greater than the average value of that column.\n",
    "\n",
    "def get_rows_greater_than_avg(df, column):\n",
    "    avg=df[column].mean(axis=0)\n",
    "    print(\"The average of\",column,\":\", avg,\"\\n\")\n",
    "    \n",
    "    return (df.loc[df[column] > avg])"
   ]
  },
  {
   "cell_type": "code",
   "execution_count": 20,
   "id": "fb3b8781",
   "metadata": {},
   "outputs": [
    {
     "name": "stdout",
     "output_type": "stream",
     "text": [
      "The average of Attribute A : 42.166666666666664 \n",
      "\n",
      "Rows where values of Attribute A are greater than its average\n",
      "     SL.No  Attribute A  Attribute B Attribute C\n",
      "8       9         90.0           21         NaN\n",
      "9      10         81.0           45           B\n",
      "11     12         56.0           35           C\n",
      "14     15         78.0           14           C\n"
     ]
    }
   ],
   "source": [
    "df = pd.read_csv(\"example.csv\")\n",
    "column=\"Attribute A\"\n",
    "\n",
    "print(\"Rows where values of\",column,\"are greater than its average\\n\",get_rows_greater_than_avg(df, column))"
   ]
  }
 ],
 "metadata": {
  "kernelspec": {
   "display_name": "Python 3 (ipykernel)",
   "language": "python",
   "name": "python3"
  },
  "language_info": {
   "codemirror_mode": {
    "name": "ipython",
    "version": 3
   },
   "file_extension": ".py",
   "mimetype": "text/x-python",
   "name": "python",
   "nbconvert_exporter": "python",
   "pygments_lexer": "ipython3",
   "version": "3.9.2"
  },
  "vscode": {
   "interpreter": {
    "hash": "21c038ad483dd102bbcd75a209ff5529708eb377a18e36379d96c6d328bc61f4"
   }
  }
 },
 "nbformat": 4,
 "nbformat_minor": 5
}
